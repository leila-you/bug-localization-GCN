{
 "cells": [
  {
   "cell_type": "code",
   "execution_count": 31,
   "metadata": {},
   "outputs": [
    {
     "name": "stdout",
     "output_type": "stream",
     "text": [
      "✔ کپی شد: youtube-dl_11_utils_buggy.py / youtube-dl_11_utils_fixed.py\n"
     ]
    }
   ],
   "source": [
    "import os\n",
    "import shutil\n",
    "\n",
    "# تنظیم مسیرها\n",
    "project = \"youtube-dl\"\n",
    "bug_id = \"11\"\n",
    "\n",
    "base_dir = \"C:/Users/Leila/Desktop/BugsInPy/temp\"\n",
    "buggy_dir = os.path.join(base_dir, \"buggy\", project)\n",
    "fixed_dir = os.path.join(base_dir, \"fixed\", project)\n",
    "\n",
    "patch_file_path = os.path.join(fixed_dir, \"bugsinpy_patchfile.info\")\n",
    "output_buggy = os.path.join(base_dir, \"extracted\", \"buggy\")\n",
    "output_fixed = os.path.join(base_dir, \"extracted\", \"fixed\")\n",
    "\n",
    "os.makedirs(output_buggy, exist_ok=True)\n",
    "os.makedirs(output_fixed, exist_ok=True)\n",
    "\n",
    "# بررسی فایل پچ\n",
    "if not os.path.exists(patch_file_path):\n",
    "    print(f\"فایل {patch_file_path} پیدا نشد.\")\n",
    "    exit()\n",
    "\n",
    "with open(patch_file_path, \"r\") as f:\n",
    "    lines = f.read().strip().split(\";\")\n",
    "\n",
    "for rel_path in lines:\n",
    "    rel_path = rel_path.strip()\n",
    "    if not rel_path:\n",
    "        continue\n",
    "\n",
    "    filename = os.path.basename(rel_path)\n",
    "    filename_base = filename.replace(\".py\", \"\")\n",
    "    \n",
    "    # اضافه کردن نام پروژه و شماره باگ به نام فایل\n",
    "    new_buggy_name = f\"{project}_{bug_id}_{filename_base}_buggy.py\"\n",
    "    new_fixed_name = f\"{project}_{bug_id}_{filename_base}_fixed.py\"\n",
    "\n",
    "    new_buggy_path = os.path.join(output_buggy, new_buggy_name)\n",
    "    new_fixed_path = os.path.join(output_fixed, new_fixed_name)\n",
    "\n",
    "    buggy_file = os.path.join(buggy_dir, rel_path)\n",
    "    fixed_file = os.path.join(fixed_dir, rel_path)\n",
    "\n",
    "    try:\n",
    "        shutil.copyfile(buggy_file, new_buggy_path)\n",
    "        shutil.copyfile(fixed_file, new_fixed_path)\n",
    "        print(f\"✔ کپی شد: {new_buggy_name} / {new_fixed_name}\")\n",
    "    except Exception as e:\n",
    "        print(f\"❌ خطا در کپی {filename}: {e}\")\n"
   ]
  },
  {
   "cell_type": "code",
   "execution_count": null,
   "metadata": {},
   "outputs": [],
   "source": []
  }
 ],
 "metadata": {
  "kernelspec": {
   "display_name": "Python 3",
   "language": "python",
   "name": "python3"
  },
  "language_info": {
   "codemirror_mode": {
    "name": "ipython",
    "version": 3
   },
   "file_extension": ".py",
   "mimetype": "text/x-python",
   "name": "python",
   "nbconvert_exporter": "python",
   "pygments_lexer": "ipython3",
   "version": "3.6.5"
  }
 },
 "nbformat": 4,
 "nbformat_minor": 2
}
